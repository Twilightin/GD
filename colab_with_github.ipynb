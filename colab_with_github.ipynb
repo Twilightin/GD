{
  "nbformat": 4,
  "nbformat_minor": 0,
  "metadata": {
    "colab": {
      "name": "Colab with github.ipynb",
      "provenance": [],
      "authorship_tag": "ABX9TyO5FmqTxwgmoSWjfDqV+y9U",
      "include_colab_link": true
    },
    "kernelspec": {
      "name": "python3",
      "display_name": "Python 3"
    }
  },
  "cells": [
    {
      "cell_type": "markdown",
      "metadata": {
        "id": "view-in-github",
        "colab_type": "text"
      },
      "source": [
        "<a href=\"https://colab.research.google.com/github/Twilightin/GD/blob/main/colab_with_github.ipynb\" target=\"_parent\"><img src=\"https://colab.research.google.com/assets/colab-badge.svg\" alt=\"Open In Colab\"/></a>"
      ]
    },
    {
      "cell_type": "markdown",
      "metadata": {
        "id": "gS9TsK1-2EmA"
      },
      "source": [
        "# Greeting from Google Drive\n",
        "## Hello, World~"
      ]
    },
    {
      "cell_type": "code",
      "metadata": {
        "id": "FbgInR3v2LI9"
      },
      "source": [
        ""
      ],
      "execution_count": null,
      "outputs": []
    }
  ]
}